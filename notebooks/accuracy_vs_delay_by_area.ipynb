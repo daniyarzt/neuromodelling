{
 "cells": [
  {
   "cell_type": "code",
   "execution_count": 61,
   "metadata": {},
   "outputs": [],
   "source": [
    "import sys\n",
    "import os \n",
    "import numpy as np \n",
    "import pandas as pd \n",
    "import matplotlib.pyplot as plt \n",
    "import re\n",
    "\n",
    "plt.style.use('seaborn-v0_8-bright')\n",
    "\n",
    "from allensdk.brain_observatory.ecephys.ecephys_project_cache import EcephysProjectCache\n",
    "\n",
    "#If your computer is going low on RAM, commment the line above and use this instead:\n",
    "#sys.path.append('../')\n",
    "#from minisdk.core import EcephysProjectCache"
   ]
  },
  {
   "cell_type": "code",
   "execution_count": 62,
   "metadata": {},
   "outputs": [],
   "source": [
    "from sklearn import svm\n",
    "from sklearn.model_selection import KFold\n",
    "from sklearn.metrics import confusion_matrix"
   ]
  },
  {
   "cell_type": "code",
   "execution_count": 63,
   "metadata": {},
   "outputs": [],
   "source": [
    "data_dir = \"../allendata\"\n",
    "#Again, we might want to use another folder if we do want to overwrite potential data we have\n",
    "#data_dir = \"../converted\"\n",
    "\n",
    "#From here on everything works with both AllenSDK and the MiniSDK!\n",
    "manifest_path = os.path.join(data_dir, \"manifest.json\")\n",
    "cache = EcephysProjectCache.from_warehouse(manifest=manifest_path)\n",
    "\n",
    "#Grab our (filtered) data from our favorite session. We take a female mice with nice unit count\n",
    "session_id = 798911424 \n",
    "oursession = cache.get_session_data(session_id)#, timeout=3000)\n",
    "\n",
    "#Takes around 500 MB of disk space, a bit more once is decompressed in RAM\n",
    "#from minisdk.core import Allen2MiniConverter\n",
    "#converter = Allen2MiniConverter()\n",
    "#converter.write_metadata_csv(cache)\n",
    "#converter.write_session_data(oursession)"
   ]
  },
  {
   "cell_type": "code",
   "execution_count": 64,
   "metadata": {},
   "outputs": [
    {
     "name": "stdout",
     "output_type": "stream",
     "text": [
      "{'flashes', 'natural_movie_one', 'spontaneous', 'drifting_gratings', 'natural_scenes', 'drifting_gratings_contrast', 'static_gratings', 'gabors', 'natural_movie_three'}\n"
     ]
    }
   ],
   "source": [
    "# Stimulus names\n",
    "sti_table = oursession.get_stimulus_table()\n",
    "sti_names = set(sti_table.stimulus_name)    \n",
    "print(sti_names)"
   ]
  },
  {
   "cell_type": "code",
   "execution_count": 65,
   "metadata": {},
   "outputs": [
    {
     "data": {
      "text/html": [
       "<div>\n",
       "<style scoped>\n",
       "    .dataframe tbody tr th:only-of-type {\n",
       "        vertical-align: middle;\n",
       "    }\n",
       "\n",
       "    .dataframe tbody tr th {\n",
       "        vertical-align: top;\n",
       "    }\n",
       "\n",
       "    .dataframe thead th {\n",
       "        text-align: right;\n",
       "    }\n",
       "</style>\n",
       "<table border=\"1\" class=\"dataframe\">\n",
       "  <thead>\n",
       "    <tr style=\"text-align: right;\">\n",
       "      <th></th>\n",
       "      <th>stimulus_block</th>\n",
       "      <th>start_time</th>\n",
       "      <th>stop_time</th>\n",
       "      <th>temporal_frequency</th>\n",
       "      <th>y_position</th>\n",
       "      <th>frame</th>\n",
       "      <th>phase</th>\n",
       "      <th>contrast</th>\n",
       "      <th>size</th>\n",
       "      <th>x_position</th>\n",
       "      <th>orientation</th>\n",
       "      <th>stimulus_name</th>\n",
       "      <th>spatial_frequency</th>\n",
       "      <th>color</th>\n",
       "      <th>duration</th>\n",
       "      <th>stimulus_condition_id</th>\n",
       "    </tr>\n",
       "    <tr>\n",
       "      <th>stimulus_presentation_id</th>\n",
       "      <th></th>\n",
       "      <th></th>\n",
       "      <th></th>\n",
       "      <th></th>\n",
       "      <th></th>\n",
       "      <th></th>\n",
       "      <th></th>\n",
       "      <th></th>\n",
       "      <th></th>\n",
       "      <th></th>\n",
       "      <th></th>\n",
       "      <th></th>\n",
       "      <th></th>\n",
       "      <th></th>\n",
       "      <th></th>\n",
       "      <th></th>\n",
       "    </tr>\n",
       "  </thead>\n",
       "  <tbody>\n",
       "    <tr>\n",
       "      <th>51355</th>\n",
       "      <td>9.0</td>\n",
       "      <td>5909.794447</td>\n",
       "      <td>5910.044666</td>\n",
       "      <td>null</td>\n",
       "      <td>null</td>\n",
       "      <td>13.0</td>\n",
       "      <td>null</td>\n",
       "      <td>null</td>\n",
       "      <td>null</td>\n",
       "      <td>null</td>\n",
       "      <td>null</td>\n",
       "      <td>natural_scenes</td>\n",
       "      <td>null</td>\n",
       "      <td>null</td>\n",
       "      <td>0.250219</td>\n",
       "      <td>4908</td>\n",
       "    </tr>\n",
       "    <tr>\n",
       "      <th>51356</th>\n",
       "      <td>9.0</td>\n",
       "      <td>5910.044666</td>\n",
       "      <td>5910.294885</td>\n",
       "      <td>null</td>\n",
       "      <td>null</td>\n",
       "      <td>38.0</td>\n",
       "      <td>null</td>\n",
       "      <td>null</td>\n",
       "      <td>null</td>\n",
       "      <td>null</td>\n",
       "      <td>null</td>\n",
       "      <td>natural_scenes</td>\n",
       "      <td>null</td>\n",
       "      <td>null</td>\n",
       "      <td>0.250219</td>\n",
       "      <td>4909</td>\n",
       "    </tr>\n",
       "    <tr>\n",
       "      <th>51357</th>\n",
       "      <td>9.0</td>\n",
       "      <td>5910.294885</td>\n",
       "      <td>5910.545104</td>\n",
       "      <td>null</td>\n",
       "      <td>null</td>\n",
       "      <td>30.0</td>\n",
       "      <td>null</td>\n",
       "      <td>null</td>\n",
       "      <td>null</td>\n",
       "      <td>null</td>\n",
       "      <td>null</td>\n",
       "      <td>natural_scenes</td>\n",
       "      <td>null</td>\n",
       "      <td>null</td>\n",
       "      <td>0.250219</td>\n",
       "      <td>4910</td>\n",
       "    </tr>\n",
       "    <tr>\n",
       "      <th>51358</th>\n",
       "      <td>9.0</td>\n",
       "      <td>5910.545104</td>\n",
       "      <td>5910.795324</td>\n",
       "      <td>null</td>\n",
       "      <td>null</td>\n",
       "      <td>35.0</td>\n",
       "      <td>null</td>\n",
       "      <td>null</td>\n",
       "      <td>null</td>\n",
       "      <td>null</td>\n",
       "      <td>null</td>\n",
       "      <td>natural_scenes</td>\n",
       "      <td>null</td>\n",
       "      <td>null</td>\n",
       "      <td>0.250219</td>\n",
       "      <td>4911</td>\n",
       "    </tr>\n",
       "    <tr>\n",
       "      <th>51359</th>\n",
       "      <td>9.0</td>\n",
       "      <td>5910.795324</td>\n",
       "      <td>5911.045522</td>\n",
       "      <td>null</td>\n",
       "      <td>null</td>\n",
       "      <td>112.0</td>\n",
       "      <td>null</td>\n",
       "      <td>null</td>\n",
       "      <td>null</td>\n",
       "      <td>null</td>\n",
       "      <td>null</td>\n",
       "      <td>natural_scenes</td>\n",
       "      <td>null</td>\n",
       "      <td>null</td>\n",
       "      <td>0.250198</td>\n",
       "      <td>4912</td>\n",
       "    </tr>\n",
       "  </tbody>\n",
       "</table>\n",
       "</div>"
      ],
      "text/plain": [
       "                         stimulus_block   start_time    stop_time  \\\n",
       "stimulus_presentation_id                                            \n",
       "51355                               9.0  5909.794447  5910.044666   \n",
       "51356                               9.0  5910.044666  5910.294885   \n",
       "51357                               9.0  5910.294885  5910.545104   \n",
       "51358                               9.0  5910.545104  5910.795324   \n",
       "51359                               9.0  5910.795324  5911.045522   \n",
       "\n",
       "                         temporal_frequency y_position  frame phase contrast  \\\n",
       "stimulus_presentation_id                                                       \n",
       "51355                                  null       null   13.0  null     null   \n",
       "51356                                  null       null   38.0  null     null   \n",
       "51357                                  null       null   30.0  null     null   \n",
       "51358                                  null       null   35.0  null     null   \n",
       "51359                                  null       null  112.0  null     null   \n",
       "\n",
       "                          size x_position orientation   stimulus_name  \\\n",
       "stimulus_presentation_id                                                \n",
       "51355                     null       null        null  natural_scenes   \n",
       "51356                     null       null        null  natural_scenes   \n",
       "51357                     null       null        null  natural_scenes   \n",
       "51358                     null       null        null  natural_scenes   \n",
       "51359                     null       null        null  natural_scenes   \n",
       "\n",
       "                         spatial_frequency color  duration  \\\n",
       "stimulus_presentation_id                                     \n",
       "51355                                 null  null  0.250219   \n",
       "51356                                 null  null  0.250219   \n",
       "51357                                 null  null  0.250219   \n",
       "51358                                 null  null  0.250219   \n",
       "51359                                 null  null  0.250198   \n",
       "\n",
       "                          stimulus_condition_id  \n",
       "stimulus_presentation_id                         \n",
       "51355                                      4908  \n",
       "51356                                      4909  \n",
       "51357                                      4910  \n",
       "51358                                      4911  \n",
       "51359                                      4912  "
      ]
     },
     "execution_count": 65,
     "metadata": {},
     "output_type": "execute_result"
    }
   ],
   "source": [
    "mask = (sti_table['stimulus_name'] == 'natural_scenes')\n",
    "natural_scenes = sti_table[mask]\n",
    "del mask\n",
    "natural_scenes.head()"
   ]
  },
  {
   "cell_type": "code",
   "execution_count": 66,
   "metadata": {},
   "outputs": [],
   "source": [
    "#Download the 118 photos of the natural scenes. \n",
    "#First time they need to be downloaded.\n",
    "nphotos = 118\n",
    "for i in range(nphotos):\n",
    "    tmp = cache.get_natural_scene_template(i)\n",
    "del tmp\n",
    "\n",
    "#Convert them to use with the MiniSDK if needed\n",
    "#converter.write_natural_images()\n"
   ]
  },
  {
   "cell_type": "code",
   "execution_count": 67,
   "metadata": {},
   "outputs": [
    {
     "name": "stdout",
     "output_type": "stream",
     "text": [
      "We have 5950 images and 135 units\n"
     ]
    }
   ],
   "source": [
    "#Get the ids of the images and the units \n",
    "image_ids = oursession.get_stimulus_table(\"natural_scenes\").index.values\n",
    "visam_ids = oursession.units[oursession.units[\"ecephys_structure_acronym\"]==\"VISam\"].index.values\n",
    "\n",
    "print(f'We have {image_ids.shape[0]} images and {visam_ids.shape[0]} units')"
   ]
  },
  {
   "cell_type": "code",
   "execution_count": 68,
   "metadata": {},
   "outputs": [],
   "source": [
    "def get_n_spikes_in_time_interval(session, regionstr, time_start, time_end):\n",
    "    #Filter neurons in the desired region\n",
    "    #IDs of these neuron are set as the indices of the units table\n",
    "    region_ids = session.units[session.units[\"ecephys_structure_acronym\"]==regionstr].index.values\n",
    "\n",
    "    #Get the spike times as a list of numpy arrays instead of dictionary\n",
    "    #spike_times[id] is a numpy array\n",
    "    region_spikes = {}\n",
    "    for id in region_ids:\n",
    "        #Filter spikes in the interval (time_start, time_end) ms.\n",
    "        #A single neuron can have 20000 spikes, and eventplot would struggle\n",
    "        spikes = session.spike_times[id]\n",
    "        region_spikes[id] = len(spikes[(spikes > time_start) & (spikes < time_end)])\n",
    "\n",
    "    return region_spikes\n",
    "\n",
    "import bisect\n",
    "def get_n_spikes_in_time_interval_with_bisect(session, regionstr, time_start, time_end):\n",
    "    #Filter neurons in the desired region\n",
    "    #IDs of these neuron are set as the indices of the units table\n",
    "    region_ids = session.units[session.units[\"ecephys_structure_acronym\"]==regionstr].index.values\n",
    "\n",
    "    #Get the spike times as a list of numpy arrays instead of dictionary\n",
    "    #spike_times[id] is a numpy array\n",
    "    region_spikes = {}\n",
    "    for id in region_ids:\n",
    "        #Filter spikes in the interval (time_start, time_end) ms.\n",
    "        #A single neuron can have 20000 spikes, and eventplot would struggle\n",
    "        spikes = session.spike_times[id]\n",
    "        R = bisect.bisect_left(spikes, time_end)\n",
    "        L = bisect.bisect_left(spikes, time_start)\n",
    "        region_spikes[id] = R - L\n",
    "\n",
    "    return region_spikes\n"
   ]
  },
  {
   "cell_type": "code",
   "execution_count": 69,
   "metadata": {},
   "outputs": [],
   "source": [
    "def get_spike_vectors(session, delay : float, stimuli : pd.DataFrame, regionstr : str):\n",
    "    \"\"\"Should return a DataFrame where each line corresponds to a vector of \n",
    "    spike numbers for each unit. Could be optimized!\"\"\"\n",
    "    sti_ids = stimuli.index.values\n",
    "    rows = []\n",
    "    for sti_id in sti_ids:\n",
    "        stimulus = stimuli.loc[sti_id]\n",
    "        region_spikes = get_n_spikes_in_time_interval_with_bisect(session, \n",
    "                                                      regionstr, \n",
    "                                                      stimulus.start_time + delay, \n",
    "                                                      stimulus.stop_time + delay)\n",
    "        new_row = pd.DataFrame(region_spikes, index = [sti_id])\n",
    "        rows.append(new_row)\n",
    "    spike_vectors = pd.concat(rows)\n",
    "    return spike_vectors"
   ]
  },
  {
   "cell_type": "code",
   "execution_count": 70,
   "metadata": {},
   "outputs": [],
   "source": [
    "def experiment_with_delay(delay : float, stimuli, area):\n",
    "    spike_vectors = get_spike_vectors(oursession, delay, stimuli, area) # right now only works with VISam\n",
    "    \n",
    "    #Find the frame that corresponds to the presentation id and convert it to int numpy array.\n",
    "    targets = stimuli.loc[image_ids, \"frame\"] # right now works only with natural_scenes!\n",
    "    targets = targets.values.astype(int)\n",
    "    labels = np.unique(targets)  #There should be 118 labels, one per image.\n",
    "\n",
    "    #The codification of the images, as a 2D numpy array instead \n",
    "    spikes_presentation = spike_vectors.values.astype(float)\n",
    "\n",
    "    #Initialize the vectors\n",
    "    accuracies = []\n",
    "    confusions = []\n",
    "\n",
    "    #KFold.split automatically splits our big table into n_splits parts. Training then is done with n_splits-1 \n",
    "    #parts and the remaining one is used for test. The procedure then is cross-validated.\n",
    "    for train_indices, test_indices in KFold(n_splits=5).split(spikes_presentation):\n",
    "        \n",
    "        #Generate the Support Vector Machine and fit it using the training dataset\n",
    "        clf = svm.SVC(gamma=\"scale\", kernel=\"rbf\")\n",
    "        clf.fit(spikes_presentation[train_indices], targets[train_indices])\n",
    "        \n",
    "        #Get the test set and try to predict over it\n",
    "        test_targets = targets[test_indices]\n",
    "        test_predictions = clf.predict(spikes_presentation[test_indices])\n",
    "        \n",
    "        #Compute the accuracy on this test set and save all of them\n",
    "        accuracy = 1 - (np.count_nonzero(test_predictions - test_targets) / test_predictions.size)\n",
    "        \n",
    "        accuracies.append(accuracy)\n",
    "        confusions.append(confusion_matrix(y_true=test_targets, y_pred=test_predictions, labels=labels))\n",
    "\n",
    "    # #Get the mean!\n",
    "    print(f\"Cross-validated mean accuracy: {100*np.mean(accuracy):.1f}%\" + f\" with delay {delay} ms\" + f\" in {area}\" )\n",
    "    print(f\"Ch?ance of random guess: {100/labels.size:.2f}%\") #1/118 \n",
    "    return 100*np.mean(accuracy)"
   ]
  },
  {
   "cell_type": "code",
   "execution_count": 71,
   "metadata": {},
   "outputs": [],
   "source": [
    "top_areas = {'VISp': 45.54621848739496, 'VISal': 38.42016806722689, 'VISl': 36.00000000000001, 'LGv': 34.252100840336134, 'VISam': 19.092436974789916, 'LP': 17.56302521008403}\n"
   ]
  },
  {
   "cell_type": "code",
   "execution_count": 73,
   "metadata": {},
   "outputs": [
    {
     "name": "stdout",
     "output_type": "stream",
     "text": [
      "Cross-validated mean accuracy: 40.9% with delay 0.0 ms in VISp\n",
      "Ch?ance of random guess: 0.84%\n"
     ]
    },
    {
     "name": "stderr",
     "output_type": "stream",
     "text": [
      "C:\\Users\\jeand\\AppData\\Local\\Temp\\ipykernel_14396\\353163504.py:6: FutureWarning: The frame.append method is deprecated and will be removed from pandas in a future version. Use pandas.concat instead.\n",
      "  df = df.append({\"area\": area, \"delay\": delay, \"accuracy\": accuracy}, ignore_index=True)\n"
     ]
    },
    {
     "name": "stdout",
     "output_type": "stream",
     "text": [
      "Cross-validated mean accuracy: 53.5% with delay 0.05 ms in VISp\n",
      "Ch?ance of random guess: 0.84%\n"
     ]
    },
    {
     "name": "stderr",
     "output_type": "stream",
     "text": [
      "C:\\Users\\jeand\\AppData\\Local\\Temp\\ipykernel_14396\\353163504.py:6: FutureWarning: The frame.append method is deprecated and will be removed from pandas in a future version. Use pandas.concat instead.\n",
      "  df = df.append({\"area\": area, \"delay\": delay, \"accuracy\": accuracy}, ignore_index=True)\n"
     ]
    },
    {
     "name": "stdout",
     "output_type": "stream",
     "text": [
      "Cross-validated mean accuracy: 53.6% with delay 0.1 ms in VISp\n",
      "Ch?ance of random guess: 0.84%\n"
     ]
    },
    {
     "name": "stderr",
     "output_type": "stream",
     "text": [
      "C:\\Users\\jeand\\AppData\\Local\\Temp\\ipykernel_14396\\353163504.py:6: FutureWarning: The frame.append method is deprecated and will be removed from pandas in a future version. Use pandas.concat instead.\n",
      "  df = df.append({\"area\": area, \"delay\": delay, \"accuracy\": accuracy}, ignore_index=True)\n"
     ]
    },
    {
     "name": "stdout",
     "output_type": "stream",
     "text": [
      "Cross-validated mean accuracy: 39.2% with delay 0.15000000000000002 ms in VISp\n",
      "Ch?ance of random guess: 0.84%\n"
     ]
    },
    {
     "name": "stderr",
     "output_type": "stream",
     "text": [
      "C:\\Users\\jeand\\AppData\\Local\\Temp\\ipykernel_14396\\353163504.py:6: FutureWarning: The frame.append method is deprecated and will be removed from pandas in a future version. Use pandas.concat instead.\n",
      "  df = df.append({\"area\": area, \"delay\": delay, \"accuracy\": accuracy}, ignore_index=True)\n"
     ]
    },
    {
     "name": "stdout",
     "output_type": "stream",
     "text": [
      "Cross-validated mean accuracy: 17.7% with delay 0.2 ms in VISp\n",
      "Ch?ance of random guess: 0.84%\n"
     ]
    },
    {
     "name": "stderr",
     "output_type": "stream",
     "text": [
      "C:\\Users\\jeand\\AppData\\Local\\Temp\\ipykernel_14396\\353163504.py:6: FutureWarning: The frame.append method is deprecated and will be removed from pandas in a future version. Use pandas.concat instead.\n",
      "  df = df.append({\"area\": area, \"delay\": delay, \"accuracy\": accuracy}, ignore_index=True)\n"
     ]
    },
    {
     "name": "stdout",
     "output_type": "stream",
     "text": [
      "Cross-validated mean accuracy: 4.8% with delay 0.25 ms in VISp\n",
      "Ch?ance of random guess: 0.84%\n"
     ]
    },
    {
     "name": "stderr",
     "output_type": "stream",
     "text": [
      "C:\\Users\\jeand\\AppData\\Local\\Temp\\ipykernel_14396\\353163504.py:6: FutureWarning: The frame.append method is deprecated and will be removed from pandas in a future version. Use pandas.concat instead.\n",
      "  df = df.append({\"area\": area, \"delay\": delay, \"accuracy\": accuracy}, ignore_index=True)\n"
     ]
    },
    {
     "name": "stdout",
     "output_type": "stream",
     "text": [
      "Cross-validated mean accuracy: 2.2% with delay 0.30000000000000004 ms in VISp\n",
      "Ch?ance of random guess: 0.84%\n"
     ]
    },
    {
     "name": "stderr",
     "output_type": "stream",
     "text": [
      "C:\\Users\\jeand\\AppData\\Local\\Temp\\ipykernel_14396\\353163504.py:6: FutureWarning: The frame.append method is deprecated and will be removed from pandas in a future version. Use pandas.concat instead.\n",
      "  df = df.append({\"area\": area, \"delay\": delay, \"accuracy\": accuracy}, ignore_index=True)\n"
     ]
    },
    {
     "name": "stdout",
     "output_type": "stream",
     "text": [
      "Cross-validated mean accuracy: 1.5% with delay 0.35000000000000003 ms in VISp\n",
      "Ch?ance of random guess: 0.84%\n"
     ]
    },
    {
     "name": "stderr",
     "output_type": "stream",
     "text": [
      "C:\\Users\\jeand\\AppData\\Local\\Temp\\ipykernel_14396\\353163504.py:6: FutureWarning: The frame.append method is deprecated and will be removed from pandas in a future version. Use pandas.concat instead.\n",
      "  df = df.append({\"area\": area, \"delay\": delay, \"accuracy\": accuracy}, ignore_index=True)\n"
     ]
    },
    {
     "name": "stdout",
     "output_type": "stream",
     "text": [
      "Cross-validated mean accuracy: 0.5% with delay 0.4 ms in VISp\n",
      "Ch?ance of random guess: 0.84%\n"
     ]
    },
    {
     "name": "stderr",
     "output_type": "stream",
     "text": [
      "C:\\Users\\jeand\\AppData\\Local\\Temp\\ipykernel_14396\\353163504.py:6: FutureWarning: The frame.append method is deprecated and will be removed from pandas in a future version. Use pandas.concat instead.\n",
      "  df = df.append({\"area\": area, \"delay\": delay, \"accuracy\": accuracy}, ignore_index=True)\n"
     ]
    },
    {
     "name": "stdout",
     "output_type": "stream",
     "text": [
      "Cross-validated mean accuracy: 0.7% with delay 0.45 ms in VISp\n",
      "Ch?ance of random guess: 0.84%\n"
     ]
    },
    {
     "name": "stderr",
     "output_type": "stream",
     "text": [
      "C:\\Users\\jeand\\AppData\\Local\\Temp\\ipykernel_14396\\353163504.py:6: FutureWarning: The frame.append method is deprecated and will be removed from pandas in a future version. Use pandas.concat instead.\n",
      "  df = df.append({\"area\": area, \"delay\": delay, \"accuracy\": accuracy}, ignore_index=True)\n"
     ]
    },
    {
     "name": "stdout",
     "output_type": "stream",
     "text": [
      "Cross-validated mean accuracy: 39.0% with delay 0.0 ms in VISal\n",
      "Ch?ance of random guess: 0.84%\n"
     ]
    },
    {
     "name": "stderr",
     "output_type": "stream",
     "text": [
      "C:\\Users\\jeand\\AppData\\Local\\Temp\\ipykernel_14396\\353163504.py:6: FutureWarning: The frame.append method is deprecated and will be removed from pandas in a future version. Use pandas.concat instead.\n",
      "  df = df.append({\"area\": area, \"delay\": delay, \"accuracy\": accuracy}, ignore_index=True)\n"
     ]
    },
    {
     "name": "stdout",
     "output_type": "stream",
     "text": [
      "Cross-validated mean accuracy: 50.9% with delay 0.05 ms in VISal\n",
      "Ch?ance of random guess: 0.84%\n"
     ]
    },
    {
     "name": "stderr",
     "output_type": "stream",
     "text": [
      "C:\\Users\\jeand\\AppData\\Local\\Temp\\ipykernel_14396\\353163504.py:6: FutureWarning: The frame.append method is deprecated and will be removed from pandas in a future version. Use pandas.concat instead.\n",
      "  df = df.append({\"area\": area, \"delay\": delay, \"accuracy\": accuracy}, ignore_index=True)\n"
     ]
    },
    {
     "name": "stdout",
     "output_type": "stream",
     "text": [
      "Cross-validated mean accuracy: 53.4% with delay 0.1 ms in VISal\n",
      "Ch?ance of random guess: 0.84%\n"
     ]
    },
    {
     "name": "stderr",
     "output_type": "stream",
     "text": [
      "C:\\Users\\jeand\\AppData\\Local\\Temp\\ipykernel_14396\\353163504.py:6: FutureWarning: The frame.append method is deprecated and will be removed from pandas in a future version. Use pandas.concat instead.\n",
      "  df = df.append({\"area\": area, \"delay\": delay, \"accuracy\": accuracy}, ignore_index=True)\n"
     ]
    },
    {
     "name": "stdout",
     "output_type": "stream",
     "text": [
      "Cross-validated mean accuracy: 32.6% with delay 0.15000000000000002 ms in VISal\n",
      "Ch?ance of random guess: 0.84%\n"
     ]
    },
    {
     "name": "stderr",
     "output_type": "stream",
     "text": [
      "C:\\Users\\jeand\\AppData\\Local\\Temp\\ipykernel_14396\\353163504.py:6: FutureWarning: The frame.append method is deprecated and will be removed from pandas in a future version. Use pandas.concat instead.\n",
      "  df = df.append({\"area\": area, \"delay\": delay, \"accuracy\": accuracy}, ignore_index=True)\n"
     ]
    },
    {
     "name": "stdout",
     "output_type": "stream",
     "text": [
      "Cross-validated mean accuracy: 14.8% with delay 0.2 ms in VISal\n",
      "Ch?ance of random guess: 0.84%\n"
     ]
    },
    {
     "name": "stderr",
     "output_type": "stream",
     "text": [
      "C:\\Users\\jeand\\AppData\\Local\\Temp\\ipykernel_14396\\353163504.py:6: FutureWarning: The frame.append method is deprecated and will be removed from pandas in a future version. Use pandas.concat instead.\n",
      "  df = df.append({\"area\": area, \"delay\": delay, \"accuracy\": accuracy}, ignore_index=True)\n"
     ]
    },
    {
     "name": "stdout",
     "output_type": "stream",
     "text": [
      "Cross-validated mean accuracy: 5.0% with delay 0.25 ms in VISal\n",
      "Ch?ance of random guess: 0.84%\n"
     ]
    },
    {
     "name": "stderr",
     "output_type": "stream",
     "text": [
      "C:\\Users\\jeand\\AppData\\Local\\Temp\\ipykernel_14396\\353163504.py:6: FutureWarning: The frame.append method is deprecated and will be removed from pandas in a future version. Use pandas.concat instead.\n",
      "  df = df.append({\"area\": area, \"delay\": delay, \"accuracy\": accuracy}, ignore_index=True)\n"
     ]
    },
    {
     "name": "stdout",
     "output_type": "stream",
     "text": [
      "Cross-validated mean accuracy: 2.4% with delay 0.30000000000000004 ms in VISal\n",
      "Ch?ance of random guess: 0.84%\n"
     ]
    },
    {
     "name": "stderr",
     "output_type": "stream",
     "text": [
      "C:\\Users\\jeand\\AppData\\Local\\Temp\\ipykernel_14396\\353163504.py:6: FutureWarning: The frame.append method is deprecated and will be removed from pandas in a future version. Use pandas.concat instead.\n",
      "  df = df.append({\"area\": area, \"delay\": delay, \"accuracy\": accuracy}, ignore_index=True)\n"
     ]
    },
    {
     "name": "stdout",
     "output_type": "stream",
     "text": [
      "Cross-validated mean accuracy: 1.2% with delay 0.35000000000000003 ms in VISal\n",
      "Ch?ance of random guess: 0.84%\n"
     ]
    },
    {
     "name": "stderr",
     "output_type": "stream",
     "text": [
      "C:\\Users\\jeand\\AppData\\Local\\Temp\\ipykernel_14396\\353163504.py:6: FutureWarning: The frame.append method is deprecated and will be removed from pandas in a future version. Use pandas.concat instead.\n",
      "  df = df.append({\"area\": area, \"delay\": delay, \"accuracy\": accuracy}, ignore_index=True)\n"
     ]
    },
    {
     "name": "stdout",
     "output_type": "stream",
     "text": [
      "Cross-validated mean accuracy: 0.9% with delay 0.4 ms in VISal\n",
      "Ch?ance of random guess: 0.84%\n"
     ]
    },
    {
     "name": "stderr",
     "output_type": "stream",
     "text": [
      "C:\\Users\\jeand\\AppData\\Local\\Temp\\ipykernel_14396\\353163504.py:6: FutureWarning: The frame.append method is deprecated and will be removed from pandas in a future version. Use pandas.concat instead.\n",
      "  df = df.append({\"area\": area, \"delay\": delay, \"accuracy\": accuracy}, ignore_index=True)\n"
     ]
    },
    {
     "name": "stdout",
     "output_type": "stream",
     "text": [
      "Cross-validated mean accuracy: 0.8% with delay 0.45 ms in VISal\n",
      "Ch?ance of random guess: 0.84%\n"
     ]
    },
    {
     "name": "stderr",
     "output_type": "stream",
     "text": [
      "C:\\Users\\jeand\\AppData\\Local\\Temp\\ipykernel_14396\\353163504.py:6: FutureWarning: The frame.append method is deprecated and will be removed from pandas in a future version. Use pandas.concat instead.\n",
      "  df = df.append({\"area\": area, \"delay\": delay, \"accuracy\": accuracy}, ignore_index=True)\n"
     ]
    },
    {
     "name": "stdout",
     "output_type": "stream",
     "text": [
      "Cross-validated mean accuracy: 35.3% with delay 0.0 ms in VISl\n",
      "Ch?ance of random guess: 0.84%\n"
     ]
    },
    {
     "name": "stderr",
     "output_type": "stream",
     "text": [
      "C:\\Users\\jeand\\AppData\\Local\\Temp\\ipykernel_14396\\353163504.py:6: FutureWarning: The frame.append method is deprecated and will be removed from pandas in a future version. Use pandas.concat instead.\n",
      "  df = df.append({\"area\": area, \"delay\": delay, \"accuracy\": accuracy}, ignore_index=True)\n"
     ]
    },
    {
     "name": "stdout",
     "output_type": "stream",
     "text": [
      "Cross-validated mean accuracy: 48.2% with delay 0.05 ms in VISl\n",
      "Ch?ance of random guess: 0.84%\n"
     ]
    },
    {
     "name": "stderr",
     "output_type": "stream",
     "text": [
      "C:\\Users\\jeand\\AppData\\Local\\Temp\\ipykernel_14396\\353163504.py:6: FutureWarning: The frame.append method is deprecated and will be removed from pandas in a future version. Use pandas.concat instead.\n",
      "  df = df.append({\"area\": area, \"delay\": delay, \"accuracy\": accuracy}, ignore_index=True)\n"
     ]
    },
    {
     "name": "stdout",
     "output_type": "stream",
     "text": [
      "Cross-validated mean accuracy: 47.2% with delay 0.1 ms in VISl\n",
      "Ch?ance of random guess: 0.84%\n"
     ]
    },
    {
     "name": "stderr",
     "output_type": "stream",
     "text": [
      "C:\\Users\\jeand\\AppData\\Local\\Temp\\ipykernel_14396\\353163504.py:6: FutureWarning: The frame.append method is deprecated and will be removed from pandas in a future version. Use pandas.concat instead.\n",
      "  df = df.append({\"area\": area, \"delay\": delay, \"accuracy\": accuracy}, ignore_index=True)\n"
     ]
    },
    {
     "name": "stdout",
     "output_type": "stream",
     "text": [
      "Cross-validated mean accuracy: 29.9% with delay 0.15000000000000002 ms in VISl\n",
      "Ch?ance of random guess: 0.84%\n"
     ]
    },
    {
     "name": "stderr",
     "output_type": "stream",
     "text": [
      "C:\\Users\\jeand\\AppData\\Local\\Temp\\ipykernel_14396\\353163504.py:6: FutureWarning: The frame.append method is deprecated and will be removed from pandas in a future version. Use pandas.concat instead.\n",
      "  df = df.append({\"area\": area, \"delay\": delay, \"accuracy\": accuracy}, ignore_index=True)\n"
     ]
    },
    {
     "name": "stdout",
     "output_type": "stream",
     "text": [
      "Cross-validated mean accuracy: 13.6% with delay 0.2 ms in VISl\n",
      "Ch?ance of random guess: 0.84%\n"
     ]
    },
    {
     "name": "stderr",
     "output_type": "stream",
     "text": [
      "C:\\Users\\jeand\\AppData\\Local\\Temp\\ipykernel_14396\\353163504.py:6: FutureWarning: The frame.append method is deprecated and will be removed from pandas in a future version. Use pandas.concat instead.\n",
      "  df = df.append({\"area\": area, \"delay\": delay, \"accuracy\": accuracy}, ignore_index=True)\n"
     ]
    },
    {
     "name": "stdout",
     "output_type": "stream",
     "text": [
      "Cross-validated mean accuracy: 5.3% with delay 0.25 ms in VISl\n",
      "Ch?ance of random guess: 0.84%\n"
     ]
    },
    {
     "name": "stderr",
     "output_type": "stream",
     "text": [
      "C:\\Users\\jeand\\AppData\\Local\\Temp\\ipykernel_14396\\353163504.py:6: FutureWarning: The frame.append method is deprecated and will be removed from pandas in a future version. Use pandas.concat instead.\n",
      "  df = df.append({\"area\": area, \"delay\": delay, \"accuracy\": accuracy}, ignore_index=True)\n"
     ]
    },
    {
     "name": "stdout",
     "output_type": "stream",
     "text": [
      "Cross-validated mean accuracy: 2.3% with delay 0.30000000000000004 ms in VISl\n",
      "Ch?ance of random guess: 0.84%\n"
     ]
    },
    {
     "name": "stderr",
     "output_type": "stream",
     "text": [
      "C:\\Users\\jeand\\AppData\\Local\\Temp\\ipykernel_14396\\353163504.py:6: FutureWarning: The frame.append method is deprecated and will be removed from pandas in a future version. Use pandas.concat instead.\n",
      "  df = df.append({\"area\": area, \"delay\": delay, \"accuracy\": accuracy}, ignore_index=True)\n"
     ]
    },
    {
     "name": "stdout",
     "output_type": "stream",
     "text": [
      "Cross-validated mean accuracy: 1.8% with delay 0.35000000000000003 ms in VISl\n",
      "Ch?ance of random guess: 0.84%\n"
     ]
    },
    {
     "name": "stderr",
     "output_type": "stream",
     "text": [
      "C:\\Users\\jeand\\AppData\\Local\\Temp\\ipykernel_14396\\353163504.py:6: FutureWarning: The frame.append method is deprecated and will be removed from pandas in a future version. Use pandas.concat instead.\n",
      "  df = df.append({\"area\": area, \"delay\": delay, \"accuracy\": accuracy}, ignore_index=True)\n"
     ]
    },
    {
     "name": "stdout",
     "output_type": "stream",
     "text": [
      "Cross-validated mean accuracy: 1.7% with delay 0.4 ms in VISl\n",
      "Ch?ance of random guess: 0.84%\n"
     ]
    },
    {
     "name": "stderr",
     "output_type": "stream",
     "text": [
      "C:\\Users\\jeand\\AppData\\Local\\Temp\\ipykernel_14396\\353163504.py:6: FutureWarning: The frame.append method is deprecated and will be removed from pandas in a future version. Use pandas.concat instead.\n",
      "  df = df.append({\"area\": area, \"delay\": delay, \"accuracy\": accuracy}, ignore_index=True)\n"
     ]
    },
    {
     "name": "stdout",
     "output_type": "stream",
     "text": [
      "Cross-validated mean accuracy: 0.6% with delay 0.45 ms in VISl\n",
      "Ch?ance of random guess: 0.84%\n"
     ]
    },
    {
     "name": "stderr",
     "output_type": "stream",
     "text": [
      "C:\\Users\\jeand\\AppData\\Local\\Temp\\ipykernel_14396\\353163504.py:6: FutureWarning: The frame.append method is deprecated and will be removed from pandas in a future version. Use pandas.concat instead.\n",
      "  df = df.append({\"area\": area, \"delay\": delay, \"accuracy\": accuracy}, ignore_index=True)\n"
     ]
    },
    {
     "name": "stdout",
     "output_type": "stream",
     "text": [
      "Cross-validated mean accuracy: 35.4% with delay 0.0 ms in LGv\n",
      "Ch?ance of random guess: 0.84%\n"
     ]
    },
    {
     "name": "stderr",
     "output_type": "stream",
     "text": [
      "C:\\Users\\jeand\\AppData\\Local\\Temp\\ipykernel_14396\\353163504.py:6: FutureWarning: The frame.append method is deprecated and will be removed from pandas in a future version. Use pandas.concat instead.\n",
      "  df = df.append({\"area\": area, \"delay\": delay, \"accuracy\": accuracy}, ignore_index=True)\n"
     ]
    },
    {
     "name": "stdout",
     "output_type": "stream",
     "text": [
      "Cross-validated mean accuracy: 39.8% with delay 0.05 ms in LGv\n",
      "Ch?ance of random guess: 0.84%\n"
     ]
    },
    {
     "name": "stderr",
     "output_type": "stream",
     "text": [
      "C:\\Users\\jeand\\AppData\\Local\\Temp\\ipykernel_14396\\353163504.py:6: FutureWarning: The frame.append method is deprecated and will be removed from pandas in a future version. Use pandas.concat instead.\n",
      "  df = df.append({\"area\": area, \"delay\": delay, \"accuracy\": accuracy}, ignore_index=True)\n"
     ]
    },
    {
     "name": "stdout",
     "output_type": "stream",
     "text": [
      "Cross-validated mean accuracy: 29.2% with delay 0.1 ms in LGv\n",
      "Ch?ance of random guess: 0.84%\n"
     ]
    },
    {
     "name": "stderr",
     "output_type": "stream",
     "text": [
      "C:\\Users\\jeand\\AppData\\Local\\Temp\\ipykernel_14396\\353163504.py:6: FutureWarning: The frame.append method is deprecated and will be removed from pandas in a future version. Use pandas.concat instead.\n",
      "  df = df.append({\"area\": area, \"delay\": delay, \"accuracy\": accuracy}, ignore_index=True)\n"
     ]
    },
    {
     "name": "stdout",
     "output_type": "stream",
     "text": [
      "Cross-validated mean accuracy: 12.0% with delay 0.15000000000000002 ms in LGv\n",
      "Ch?ance of random guess: 0.84%\n"
     ]
    },
    {
     "name": "stderr",
     "output_type": "stream",
     "text": [
      "C:\\Users\\jeand\\AppData\\Local\\Temp\\ipykernel_14396\\353163504.py:6: FutureWarning: The frame.append method is deprecated and will be removed from pandas in a future version. Use pandas.concat instead.\n",
      "  df = df.append({\"area\": area, \"delay\": delay, \"accuracy\": accuracy}, ignore_index=True)\n"
     ]
    },
    {
     "name": "stdout",
     "output_type": "stream",
     "text": [
      "Cross-validated mean accuracy: 4.5% with delay 0.2 ms in LGv\n",
      "Ch?ance of random guess: 0.84%\n"
     ]
    },
    {
     "name": "stderr",
     "output_type": "stream",
     "text": [
      "C:\\Users\\jeand\\AppData\\Local\\Temp\\ipykernel_14396\\353163504.py:6: FutureWarning: The frame.append method is deprecated and will be removed from pandas in a future version. Use pandas.concat instead.\n",
      "  df = df.append({\"area\": area, \"delay\": delay, \"accuracy\": accuracy}, ignore_index=True)\n"
     ]
    },
    {
     "name": "stdout",
     "output_type": "stream",
     "text": [
      "Cross-validated mean accuracy: 1.4% with delay 0.25 ms in LGv\n",
      "Ch?ance of random guess: 0.84%\n"
     ]
    },
    {
     "name": "stderr",
     "output_type": "stream",
     "text": [
      "C:\\Users\\jeand\\AppData\\Local\\Temp\\ipykernel_14396\\353163504.py:6: FutureWarning: The frame.append method is deprecated and will be removed from pandas in a future version. Use pandas.concat instead.\n",
      "  df = df.append({\"area\": area, \"delay\": delay, \"accuracy\": accuracy}, ignore_index=True)\n"
     ]
    },
    {
     "name": "stdout",
     "output_type": "stream",
     "text": [
      "Cross-validated mean accuracy: 1.4% with delay 0.30000000000000004 ms in LGv\n",
      "Ch?ance of random guess: 0.84%\n"
     ]
    },
    {
     "name": "stderr",
     "output_type": "stream",
     "text": [
      "C:\\Users\\jeand\\AppData\\Local\\Temp\\ipykernel_14396\\353163504.py:6: FutureWarning: The frame.append method is deprecated and will be removed from pandas in a future version. Use pandas.concat instead.\n",
      "  df = df.append({\"area\": area, \"delay\": delay, \"accuracy\": accuracy}, ignore_index=True)\n"
     ]
    },
    {
     "name": "stdout",
     "output_type": "stream",
     "text": [
      "Cross-validated mean accuracy: 0.7% with delay 0.35000000000000003 ms in LGv\n",
      "Ch?ance of random guess: 0.84%\n"
     ]
    },
    {
     "name": "stderr",
     "output_type": "stream",
     "text": [
      "C:\\Users\\jeand\\AppData\\Local\\Temp\\ipykernel_14396\\353163504.py:6: FutureWarning: The frame.append method is deprecated and will be removed from pandas in a future version. Use pandas.concat instead.\n",
      "  df = df.append({\"area\": area, \"delay\": delay, \"accuracy\": accuracy}, ignore_index=True)\n"
     ]
    },
    {
     "name": "stdout",
     "output_type": "stream",
     "text": [
      "Cross-validated mean accuracy: 0.8% with delay 0.4 ms in LGv\n",
      "Ch?ance of random guess: 0.84%\n"
     ]
    },
    {
     "name": "stderr",
     "output_type": "stream",
     "text": [
      "C:\\Users\\jeand\\AppData\\Local\\Temp\\ipykernel_14396\\353163504.py:6: FutureWarning: The frame.append method is deprecated and will be removed from pandas in a future version. Use pandas.concat instead.\n",
      "  df = df.append({\"area\": area, \"delay\": delay, \"accuracy\": accuracy}, ignore_index=True)\n"
     ]
    },
    {
     "name": "stdout",
     "output_type": "stream",
     "text": [
      "Cross-validated mean accuracy: 0.7% with delay 0.45 ms in LGv\n",
      "Ch?ance of random guess: 0.84%\n"
     ]
    },
    {
     "name": "stderr",
     "output_type": "stream",
     "text": [
      "C:\\Users\\jeand\\AppData\\Local\\Temp\\ipykernel_14396\\353163504.py:6: FutureWarning: The frame.append method is deprecated and will be removed from pandas in a future version. Use pandas.concat instead.\n",
      "  df = df.append({\"area\": area, \"delay\": delay, \"accuracy\": accuracy}, ignore_index=True)\n"
     ]
    },
    {
     "name": "stdout",
     "output_type": "stream",
     "text": [
      "Cross-validated mean accuracy: 17.6% with delay 0.0 ms in VISam\n",
      "Ch?ance of random guess: 0.84%\n"
     ]
    },
    {
     "name": "stderr",
     "output_type": "stream",
     "text": [
      "C:\\Users\\jeand\\AppData\\Local\\Temp\\ipykernel_14396\\353163504.py:6: FutureWarning: The frame.append method is deprecated and will be removed from pandas in a future version. Use pandas.concat instead.\n",
      "  df = df.append({\"area\": area, \"delay\": delay, \"accuracy\": accuracy}, ignore_index=True)\n"
     ]
    },
    {
     "name": "stdout",
     "output_type": "stream",
     "text": [
      "Cross-validated mean accuracy: 28.4% with delay 0.05 ms in VISam\n",
      "Ch?ance of random guess: 0.84%\n"
     ]
    },
    {
     "name": "stderr",
     "output_type": "stream",
     "text": [
      "C:\\Users\\jeand\\AppData\\Local\\Temp\\ipykernel_14396\\353163504.py:6: FutureWarning: The frame.append method is deprecated and will be removed from pandas in a future version. Use pandas.concat instead.\n",
      "  df = df.append({\"area\": area, \"delay\": delay, \"accuracy\": accuracy}, ignore_index=True)\n"
     ]
    },
    {
     "name": "stdout",
     "output_type": "stream",
     "text": [
      "Cross-validated mean accuracy: 31.1% with delay 0.1 ms in VISam\n",
      "Ch?ance of random guess: 0.84%\n"
     ]
    },
    {
     "name": "stderr",
     "output_type": "stream",
     "text": [
      "C:\\Users\\jeand\\AppData\\Local\\Temp\\ipykernel_14396\\353163504.py:6: FutureWarning: The frame.append method is deprecated and will be removed from pandas in a future version. Use pandas.concat instead.\n",
      "  df = df.append({\"area\": area, \"delay\": delay, \"accuracy\": accuracy}, ignore_index=True)\n"
     ]
    },
    {
     "name": "stdout",
     "output_type": "stream",
     "text": [
      "Cross-validated mean accuracy: 19.8% with delay 0.15000000000000002 ms in VISam\n",
      "Ch?ance of random guess: 0.84%\n"
     ]
    },
    {
     "name": "stderr",
     "output_type": "stream",
     "text": [
      "C:\\Users\\jeand\\AppData\\Local\\Temp\\ipykernel_14396\\353163504.py:6: FutureWarning: The frame.append method is deprecated and will be removed from pandas in a future version. Use pandas.concat instead.\n",
      "  df = df.append({\"area\": area, \"delay\": delay, \"accuracy\": accuracy}, ignore_index=True)\n"
     ]
    },
    {
     "name": "stdout",
     "output_type": "stream",
     "text": [
      "Cross-validated mean accuracy: 8.4% with delay 0.2 ms in VISam\n",
      "Ch?ance of random guess: 0.84%\n"
     ]
    },
    {
     "name": "stderr",
     "output_type": "stream",
     "text": [
      "C:\\Users\\jeand\\AppData\\Local\\Temp\\ipykernel_14396\\353163504.py:6: FutureWarning: The frame.append method is deprecated and will be removed from pandas in a future version. Use pandas.concat instead.\n",
      "  df = df.append({\"area\": area, \"delay\": delay, \"accuracy\": accuracy}, ignore_index=True)\n"
     ]
    },
    {
     "name": "stdout",
     "output_type": "stream",
     "text": [
      "Cross-validated mean accuracy: 4.1% with delay 0.25 ms in VISam\n",
      "Ch?ance of random guess: 0.84%\n"
     ]
    },
    {
     "name": "stderr",
     "output_type": "stream",
     "text": [
      "C:\\Users\\jeand\\AppData\\Local\\Temp\\ipykernel_14396\\353163504.py:6: FutureWarning: The frame.append method is deprecated and will be removed from pandas in a future version. Use pandas.concat instead.\n",
      "  df = df.append({\"area\": area, \"delay\": delay, \"accuracy\": accuracy}, ignore_index=True)\n"
     ]
    },
    {
     "name": "stdout",
     "output_type": "stream",
     "text": [
      "Cross-validated mean accuracy: 1.6% with delay 0.30000000000000004 ms in VISam\n",
      "Ch?ance of random guess: 0.84%\n"
     ]
    },
    {
     "name": "stderr",
     "output_type": "stream",
     "text": [
      "C:\\Users\\jeand\\AppData\\Local\\Temp\\ipykernel_14396\\353163504.py:6: FutureWarning: The frame.append method is deprecated and will be removed from pandas in a future version. Use pandas.concat instead.\n",
      "  df = df.append({\"area\": area, \"delay\": delay, \"accuracy\": accuracy}, ignore_index=True)\n"
     ]
    },
    {
     "name": "stdout",
     "output_type": "stream",
     "text": [
      "Cross-validated mean accuracy: 0.9% with delay 0.35000000000000003 ms in VISam\n",
      "Ch?ance of random guess: 0.84%\n"
     ]
    },
    {
     "name": "stderr",
     "output_type": "stream",
     "text": [
      "C:\\Users\\jeand\\AppData\\Local\\Temp\\ipykernel_14396\\353163504.py:6: FutureWarning: The frame.append method is deprecated and will be removed from pandas in a future version. Use pandas.concat instead.\n",
      "  df = df.append({\"area\": area, \"delay\": delay, \"accuracy\": accuracy}, ignore_index=True)\n"
     ]
    },
    {
     "name": "stdout",
     "output_type": "stream",
     "text": [
      "Cross-validated mean accuracy: 0.5% with delay 0.4 ms in VISam\n",
      "Ch?ance of random guess: 0.84%\n"
     ]
    },
    {
     "name": "stderr",
     "output_type": "stream",
     "text": [
      "C:\\Users\\jeand\\AppData\\Local\\Temp\\ipykernel_14396\\353163504.py:6: FutureWarning: The frame.append method is deprecated and will be removed from pandas in a future version. Use pandas.concat instead.\n",
      "  df = df.append({\"area\": area, \"delay\": delay, \"accuracy\": accuracy}, ignore_index=True)\n"
     ]
    },
    {
     "name": "stdout",
     "output_type": "stream",
     "text": [
      "Cross-validated mean accuracy: 0.5% with delay 0.45 ms in VISam\n",
      "Ch?ance of random guess: 0.84%\n"
     ]
    },
    {
     "name": "stderr",
     "output_type": "stream",
     "text": [
      "C:\\Users\\jeand\\AppData\\Local\\Temp\\ipykernel_14396\\353163504.py:6: FutureWarning: The frame.append method is deprecated and will be removed from pandas in a future version. Use pandas.concat instead.\n",
      "  df = df.append({\"area\": area, \"delay\": delay, \"accuracy\": accuracy}, ignore_index=True)\n"
     ]
    },
    {
     "name": "stdout",
     "output_type": "stream",
     "text": [
      "Cross-validated mean accuracy: 17.1% with delay 0.0 ms in LP\n",
      "Ch?ance of random guess: 0.84%\n"
     ]
    },
    {
     "name": "stderr",
     "output_type": "stream",
     "text": [
      "C:\\Users\\jeand\\AppData\\Local\\Temp\\ipykernel_14396\\353163504.py:6: FutureWarning: The frame.append method is deprecated and will be removed from pandas in a future version. Use pandas.concat instead.\n",
      "  df = df.append({\"area\": area, \"delay\": delay, \"accuracy\": accuracy}, ignore_index=True)\n"
     ]
    },
    {
     "name": "stdout",
     "output_type": "stream",
     "text": [
      "Cross-validated mean accuracy: 27.4% with delay 0.05 ms in LP\n",
      "Ch?ance of random guess: 0.84%\n"
     ]
    },
    {
     "name": "stderr",
     "output_type": "stream",
     "text": [
      "C:\\Users\\jeand\\AppData\\Local\\Temp\\ipykernel_14396\\353163504.py:6: FutureWarning: The frame.append method is deprecated and will be removed from pandas in a future version. Use pandas.concat instead.\n",
      "  df = df.append({\"area\": area, \"delay\": delay, \"accuracy\": accuracy}, ignore_index=True)\n"
     ]
    },
    {
     "name": "stdout",
     "output_type": "stream",
     "text": [
      "Cross-validated mean accuracy: 25.1% with delay 0.1 ms in LP\n",
      "Ch?ance of random guess: 0.84%\n"
     ]
    },
    {
     "name": "stderr",
     "output_type": "stream",
     "text": [
      "C:\\Users\\jeand\\AppData\\Local\\Temp\\ipykernel_14396\\353163504.py:6: FutureWarning: The frame.append method is deprecated and will be removed from pandas in a future version. Use pandas.concat instead.\n",
      "  df = df.append({\"area\": area, \"delay\": delay, \"accuracy\": accuracy}, ignore_index=True)\n"
     ]
    },
    {
     "name": "stdout",
     "output_type": "stream",
     "text": [
      "Cross-validated mean accuracy: 16.5% with delay 0.15000000000000002 ms in LP\n",
      "Ch?ance of random guess: 0.84%\n"
     ]
    },
    {
     "name": "stderr",
     "output_type": "stream",
     "text": [
      "C:\\Users\\jeand\\AppData\\Local\\Temp\\ipykernel_14396\\353163504.py:6: FutureWarning: The frame.append method is deprecated and will be removed from pandas in a future version. Use pandas.concat instead.\n",
      "  df = df.append({\"area\": area, \"delay\": delay, \"accuracy\": accuracy}, ignore_index=True)\n"
     ]
    },
    {
     "name": "stdout",
     "output_type": "stream",
     "text": [
      "Cross-validated mean accuracy: 9.2% with delay 0.2 ms in LP\n",
      "Ch?ance of random guess: 0.84%\n"
     ]
    },
    {
     "name": "stderr",
     "output_type": "stream",
     "text": [
      "C:\\Users\\jeand\\AppData\\Local\\Temp\\ipykernel_14396\\353163504.py:6: FutureWarning: The frame.append method is deprecated and will be removed from pandas in a future version. Use pandas.concat instead.\n",
      "  df = df.append({\"area\": area, \"delay\": delay, \"accuracy\": accuracy}, ignore_index=True)\n"
     ]
    },
    {
     "name": "stdout",
     "output_type": "stream",
     "text": [
      "Cross-validated mean accuracy: 3.5% with delay 0.25 ms in LP\n",
      "Ch?ance of random guess: 0.84%\n"
     ]
    },
    {
     "name": "stderr",
     "output_type": "stream",
     "text": [
      "C:\\Users\\jeand\\AppData\\Local\\Temp\\ipykernel_14396\\353163504.py:6: FutureWarning: The frame.append method is deprecated and will be removed from pandas in a future version. Use pandas.concat instead.\n",
      "  df = df.append({\"area\": area, \"delay\": delay, \"accuracy\": accuracy}, ignore_index=True)\n"
     ]
    },
    {
     "name": "stdout",
     "output_type": "stream",
     "text": [
      "Cross-validated mean accuracy: 1.8% with delay 0.30000000000000004 ms in LP\n",
      "Ch?ance of random guess: 0.84%\n"
     ]
    },
    {
     "name": "stderr",
     "output_type": "stream",
     "text": [
      "C:\\Users\\jeand\\AppData\\Local\\Temp\\ipykernel_14396\\353163504.py:6: FutureWarning: The frame.append method is deprecated and will be removed from pandas in a future version. Use pandas.concat instead.\n",
      "  df = df.append({\"area\": area, \"delay\": delay, \"accuracy\": accuracy}, ignore_index=True)\n"
     ]
    },
    {
     "name": "stdout",
     "output_type": "stream",
     "text": [
      "Cross-validated mean accuracy: 1.6% with delay 0.35000000000000003 ms in LP\n",
      "Ch?ance of random guess: 0.84%\n"
     ]
    },
    {
     "name": "stderr",
     "output_type": "stream",
     "text": [
      "C:\\Users\\jeand\\AppData\\Local\\Temp\\ipykernel_14396\\353163504.py:6: FutureWarning: The frame.append method is deprecated and will be removed from pandas in a future version. Use pandas.concat instead.\n",
      "  df = df.append({\"area\": area, \"delay\": delay, \"accuracy\": accuracy}, ignore_index=True)\n"
     ]
    },
    {
     "name": "stdout",
     "output_type": "stream",
     "text": [
      "Cross-validated mean accuracy: 0.9% with delay 0.4 ms in LP\n",
      "Ch?ance of random guess: 0.84%\n"
     ]
    },
    {
     "name": "stderr",
     "output_type": "stream",
     "text": [
      "C:\\Users\\jeand\\AppData\\Local\\Temp\\ipykernel_14396\\353163504.py:6: FutureWarning: The frame.append method is deprecated and will be removed from pandas in a future version. Use pandas.concat instead.\n",
      "  df = df.append({\"area\": area, \"delay\": delay, \"accuracy\": accuracy}, ignore_index=True)\n"
     ]
    },
    {
     "name": "stdout",
     "output_type": "stream",
     "text": [
      "Cross-validated mean accuracy: 0.6% with delay 0.45 ms in LP\n",
      "Ch?ance of random guess: 0.84%\n"
     ]
    },
    {
     "name": "stderr",
     "output_type": "stream",
     "text": [
      "C:\\Users\\jeand\\AppData\\Local\\Temp\\ipykernel_14396\\353163504.py:6: FutureWarning: The frame.append method is deprecated and will be removed from pandas in a future version. Use pandas.concat instead.\n",
      "  df = df.append({\"area\": area, \"delay\": delay, \"accuracy\": accuracy}, ignore_index=True)\n"
     ]
    }
   ],
   "source": [
    "delays = np.arange(0.0, 0.50, 0.05)\n",
    "df = pd.DataFrame()\n",
    "for area in top_areas.keys():\n",
    "    for delay in delays:\n",
    "        accuracy = experiment_with_delay(delay, natural_scenes, area)\n",
    "        df = df.append({\"area\": area, \"delay\": delay, \"accuracy\": accuracy}, ignore_index=True)\n",
    "        df.tail()\n"
   ]
  },
  {
   "cell_type": "code",
   "execution_count": 74,
   "metadata": {},
   "outputs": [
    {
     "data": {
      "text/plain": [
       "<matplotlib.legend.Legend at 0x1da601ce250>"
      ]
     },
     "execution_count": 74,
     "metadata": {},
     "output_type": "execute_result"
    },
    {
     "data": {
      "image/png": "[encoded data removed]",
      "text/plain": [
       "<Figure size 1000x600 with 1 Axes>"
      ]
     },
     "metadata": {},
     "output_type": "display_data"
    }
   ],
   "source": [
    "#Plot the results in one plot\n",
    "plt.figure(figsize=(10, 6))\n",
    "\n",
    "for area in top_areas.keys():\n",
    "    mask = df[\"area\"] == area\n",
    "    plt.plot(df[mask][\"delay\"], df[mask][\"accuracy\"], label=area)\n",
    "\n",
    "plt.xlabel(\"Delay (s)\")\n",
    "plt.ylabel(\"Accuracy (%)\")\n",
    "plt.title(\"Accuracy of the SVM classifier for different delays\")\n",
    "plt.legend()"
   ]
  },
  {
   "cell_type": "code",
   "execution_count": 88,
   "metadata": {},
   "outputs": [
    {
     "data": {
      "text/html": [
       "<div>\n",
       "<style scoped>\n",
       "    .dataframe tbody tr th:only-of-type {\n",
       "        vertical-align: middle;\n",
       "    }\n",
       "\n",
       "    .dataframe tbody tr th {\n",
       "        vertical-align: top;\n",
       "    }\n",
       "\n",
       "    .dataframe thead th {\n",
       "        text-align: right;\n",
       "    }\n",
       "</style>\n",
       "<table border=\"1\" class=\"dataframe\">\n",
       "  <thead>\n",
       "    <tr style=\"text-align: right;\">\n",
       "      <th></th>\n",
       "      <th>area</th>\n",
       "      <th>delay</th>\n",
       "      <th>accuracy</th>\n",
       "    </tr>\n",
       "  </thead>\n",
       "  <tbody>\n",
       "    <tr>\n",
       "      <th>0</th>\n",
       "      <td>VISp</td>\n",
       "      <td>0.00</td>\n",
       "      <td>40.924370</td>\n",
       "    </tr>\n",
       "    <tr>\n",
       "      <th>1</th>\n",
       "      <td>VISp</td>\n",
       "      <td>0.05</td>\n",
       "      <td>53.529412</td>\n",
       "    </tr>\n",
       "    <tr>\n",
       "      <th>2</th>\n",
       "      <td>VISp</td>\n",
       "      <td>0.10</td>\n",
       "      <td>53.613445</td>\n",
       "    </tr>\n",
       "    <tr>\n",
       "      <th>3</th>\n",
       "      <td>VISp</td>\n",
       "      <td>0.15</td>\n",
       "      <td>39.159664</td>\n",
       "    </tr>\n",
       "    <tr>\n",
       "      <th>4</th>\n",
       "      <td>VISp</td>\n",
       "      <td>0.20</td>\n",
       "      <td>17.731092</td>\n",
       "    </tr>\n",
       "  </tbody>\n",
       "</table>\n",
       "</div>"
      ],
      "text/plain": [
       "   area  delay   accuracy\n",
       "0  VISp   0.00  40.924370\n",
       "1  VISp   0.05  53.529412\n",
       "2  VISp   0.10  53.613445\n",
       "3  VISp   0.15  39.159664\n",
       "4  VISp   0.20  17.731092"
      ]
     },
     "execution_count": 88,
     "metadata": {},
     "output_type": "execute_result"
    }
   ],
   "source": [
    "df.head()"
   ]
  },
  {
   "cell_type": "code",
   "execution_count": 97,
   "metadata": {},
   "outputs": [],
   "source": [
    "df.to_csv(\"C:/Users/jeand/OneDrive/Bureau/Clean_PC/neuroscience project/accuracy.csv\", index=False)\n"
   ]
  }
 ],
 "metadata": {
  "kernelspec": {
   "display_name": "neuroscience",
   "language": "python",
   "name": "python3"
  },
  "language_info": {
   "codemirror_mode": {
    "name": "ipython",
    "version": 3
   },
   "file_extension": ".py",
   "mimetype": "text/x-python",
   "name": "python",
   "nbconvert_exporter": "python",
   "pygments_lexer": "ipython3",
   "version": "3.11.8"
  }
 },
 "nbformat": 4,
 "nbformat_minor": 2
}
